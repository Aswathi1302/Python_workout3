{
 "cells": [
  {
   "cell_type": "markdown",
   "metadata": {},
   "source": [
    "                                     ASSIGNMENT:-3"
   ]
  },
  {
   "cell_type": "markdown",
   "metadata": {},
   "source": [
    "QUE 1:- CREATE A CLASS.MAKE TWO METHODS\n",
    "        1.convertfahrenheit:- it will take celsius and will print it into Fahrenheit.\n",
    "        2.convertcelsius:- it will take Fahrenheit and will convert it into celsius."
   ]
  },
  {
   "cell_type": "code",
   "execution_count": 15,
   "metadata": {},
   "outputs": [
    {
     "name": "stdout",
     "output_type": "stream",
     "text": [
      "celsius to fahrenheit:- 89.6\n",
      "fahrenheit to celsius:- 32.22222222222222\n"
     ]
    }
   ],
   "source": [
    "class Temperature:\n",
    "    temp = 0\n",
    "\n",
    "    def __init__(self, temp):\n",
    "        self.temp = temp\n",
    "\n",
    "\n",
    "    def convert_to_fahrenheit(self):\n",
    "        result = float((9 * self.temp) / 5 + 32)\n",
    "        return result\n",
    "\n",
    "    def convert_to_celsius(self):\n",
    "        result = float((self.temp - 32) * 5 / 9)\n",
    "        return result\n",
    "\n",
    "\n",
    "input_temp = float(input(\"Input temperature in celsius: \"))\n",
    "temp1 = Temperature(input_temp)\n",
    "print(\"celsius to fahrenheit:-\",temp1.convert_to_fahrenheit())\n",
    "\n",
    "input_temp = float(input(\"Input temperature in fahrenheit: \"))\n",
    "temp1 = Temperature(input_temp)\n",
    "print(\"fahrenheit to celsius:-\",temp1.convert_to_celsius())"
   ]
  },
  {
   "cell_type": "markdown",
   "metadata": {},
   "source": [
    "QUE 2:-CREATE A TIME CLASS AND INITIALIZE IT WITH HOURSE AND MINUTES\n",
    "1.Make a method addtime,which should take two time object and add them.eg:-(2 hr and 50 min)+(1 hr and 20 min)is(4 hr and 10 min)\n",
    "2.Make a method  DisplayTime which should print the time.\n",
    "3.Make a method DisplayMinutes which should display the total minute in the time.(i hr 62 min is display 62 min)"
   ]
  },
  {
   "cell_type": "code",
   "execution_count": 17,
   "metadata": {},
   "outputs": [
    {
     "name": "stdout",
     "output_type": "stream",
     "text": [
      "Time is  2 hours and 20 minutes.\n",
      "140 minutes\n"
     ]
    }
   ],
   "source": [
    "class  Time(object):\n",
    "\n",
    "    def __init__(self, hours, minutes):\n",
    "        self.hours = hours\n",
    "        self.minutes = minutes\n",
    "\n",
    "    def addTime(t1, t2):\n",
    "        t3 = Time(0, 0) # creating new object\n",
    "        t3.hours = t1.hours + t2.hours # sum of hours\n",
    "        t3.minutes = t1.minutes + t2.minutes # sum of minutes\n",
    "        while t3.minutes >= 60:\n",
    "            t3.hours += 1\n",
    "            t3.minutes -= 60\n",
    "        return t3\n",
    "\n",
    "    def displayTime(self):\n",
    "        print(\"Time is \",self.hours,\"hours and\",self.minutes,\"minutes.\")\n",
    "\n",
    "    def displayMinutes(self):\n",
    "        print((self.hours * 60) + self.minutes, \"minutes\")\n",
    "\n",
    "a = Time(1, 10)\n",
    "b = Time(1, 10)\n",
    "c = Time.addTime(a,b)\n",
    "\n",
    "c.displayTime()\n",
    "c.displayMinutes()\n"
   ]
  }
 ],
 "metadata": {
  "kernelspec": {
   "display_name": "Python 3.10.7 64-bit",
   "language": "python",
   "name": "python3"
  },
  "language_info": {
   "codemirror_mode": {
    "name": "ipython",
    "version": 3
   },
   "file_extension": ".py",
   "mimetype": "text/x-python",
   "name": "python",
   "nbconvert_exporter": "python",
   "pygments_lexer": "ipython3",
   "version": "3.10.7"
  },
  "orig_nbformat": 4,
  "vscode": {
   "interpreter": {
    "hash": "49bb8d6b5070a5d55bf02ebd564ef1f2cd102c05393e2cd9154b2c8caab561c9"
   }
  }
 },
 "nbformat": 4,
 "nbformat_minor": 2
}
